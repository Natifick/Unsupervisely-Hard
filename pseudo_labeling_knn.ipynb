{
 "cells": [
  {
   "cell_type": "markdown",
   "id": "447e750c-737d-4247-b9ee-535d631cdb07",
   "metadata": {},
   "source": [
    "### Deep Clustering\n",
    "\n"
   ]
  },
  {
   "cell_type": "code",
   "execution_count": null,
   "id": "4bb3ed92-ca53-430d-9e2d-1182fd9de7aa",
   "metadata": {},
   "outputs": [],
   "source": [
    "%load_ext autoreload\n",
    "%autoreload 2"
   ]
  },
  {
   "cell_type": "code",
   "execution_count": null,
   "id": "41374001-7b3b-4120-a200-0860a3254886",
   "metadata": {},
   "outputs": [],
   "source": [
    "import random\n",
    "\n",
    "import numpy as np\n",
    "from tqdm import tqdm\n",
    "import matplotlib.pyplot as plt\n",
    "\n",
    "import torch\n",
    "import torch.nn as nn\n",
    "import torch.nn.functional as F\n",
    "from torch.utils.data import DataLoader\n",
    "import torchvision\n",
    "from torchvision import datasets\n",
    "import torchvision.transforms as T\n",
    "\n",
    "DEVICE=torch.device('cuda' if torch.cuda.is_available() else 'cpu') \n",
    "SEED=42\n",
    "\n",
    "random.seed(SEED)\n",
    "np.random.seed(SEED)\n",
    "torch.manual_seed(SEED)\n",
    "\n",
    "print(DEVICE)"
   ]
  },
  {
   "cell_type": "code",
   "execution_count": null,
   "id": "e688d4a8-98a8-404e-8f10-4bbeb17a2ba9",
   "metadata": {},
   "outputs": [],
   "source": [
    "CHS = 3\n",
    "IMG_SIZE = (32, 32)\n",
    "BS = 128\n",
    "K = 10\n",
    "\n",
    "transform_train = T.Compose([])\n",
    "\n",
    "transform_test = T.Compose([\n",
    "    T.ToTensor(),\n",
    "    T.Normalize(mean=IMAGENET_NORMALIZE[\"mean\"], std=IMAGENET_NORMALIZE[\"std\"])\n",
    "])\n",
    "\n",
    "ds_train = datasets.CIFAR10(root='../data', transform=transform_train, download=True)\n",
    "train_loader = DataLoader(ds_train, batch_size=BS, shuffle=False, drop_last=True) # don't shuffle"
   ]
  },
  {
   "cell_type": "code",
   "execution_count": null,
   "id": "ae4501b5-f173-44e2-b67c-d60e8812c735",
   "metadata": {},
   "outputs": [],
   "source": [
    "def train_with_kmeans(model, train_loader, criterion, optimizer):\n",
    "    # produce random initial vectors\n",
    "    # kmeans labels\n",
    "    # update params, keep training and updating\n",
    "    # idea: apply supervised metrics from other papers"
   ]
  },
  {
   "cell_type": "code",
   "execution_count": null,
   "id": "3ee80926-e463-4cfb-bc16-cbe714559705",
   "metadata": {},
   "outputs": [],
   "source": []
  },
  {
   "cell_type": "code",
   "execution_count": null,
   "id": "463007d8-e08c-44cd-8502-7e5f151c4c9d",
   "metadata": {},
   "outputs": [],
   "source": []
  }
 ],
 "metadata": {
  "kernelspec": {
   "display_name": "Python 3 (ipykernel)",
   "language": "python",
   "name": "python3"
  },
  "language_info": {
   "codemirror_mode": {
    "name": "ipython",
    "version": 3
   },
   "file_extension": ".py",
   "mimetype": "text/x-python",
   "name": "python",
   "nbconvert_exporter": "python",
   "pygments_lexer": "ipython3",
   "version": "3.11.5"
  }
 },
 "nbformat": 4,
 "nbformat_minor": 5
}
